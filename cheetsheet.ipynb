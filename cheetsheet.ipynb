{
 "cells": [
  {
   "attachments": {},
   "cell_type": "markdown",
   "metadata": {},
   "source": [
    "## Cheat sheet\n",
    "\n",
    "**can you add arrays of different sizes?**\n",
    "> nope\n",
    "\n",
    "**what is percentile? and what arguments does percentile take in?**\n",
    "> percentile takes in a percent (p) and an array (a collection), where it then finds the smallest element in that collection that is at least as large as p% of the \n",
    "\n",
    "**what is the formula for `np.std`? what is even std?**\n",
    ">$$\\sqrt{\\frac{\\text{sum}((\\text{arr} - \\text{mean})^2)}{\\text{len(arr)}}}$$\n",
    ">standard deviation is a measure of variability. Deviation from average is how how far each value is from the mean, and the variance is calculated by taking the mean of the squares of the deviations, (squared to get rid of negatives, since the sum of the deviations = 0.)\n",
    ">Then finally, since variance is mean squared, it does not to the same scale as the original variable, therefore we take the square root of it. This is called the standard deviation.\n",
    "\n",
    "**What is standard units**\n",
    ">Standard units is a measure of how many standard deviations a value is from the mean.\n",
    ">$$z = \\frac{\\text{value} - mean}{\\text{np.std(value)}}$$\n",
    "\n",
    "**What does the skew of a histogram tell us about the relationship between mean and median?**\n",
    "> if the histogram is skewed left (tail on the right), then mean is higher than median, otherwise...  \n",
    "> if the histogram is symmetric, then the mean and median are equal.\n",
    "\n",
    "\n",
    "**What is p-value?**\n",
    "> p-value is the chances, based on the model in the null hypothesis, that the test statistic will be equal to the observed statistic or further in the direction of the alternate hypothesis. This is why for low p-values, we reject the null since it tells us that there was low chances that the test statistics could be equal to the observed statistic, so the observed statistic is an outlier.\n",
    "\n",
    "**What does p-value cutoff tell us?**\n",
    "> the p-value cutoff is a conventional point where we decide to reject the null or alternate hypothesis.  \n",
    "> When the null happens to be true, and we use a 5% p-value cutoff, then there is a 5% chance that the test will conclude that the alternative is true.\n",
    "\n",
    "**What do confidence intervals tell you?**\n",
    "> The confidence interval is interval of estimates for an unknown parameter. For a 95% confidence interval, we say that we are 95% confident that the process results in a good interval (one that contains the parameter).\n",
    "\n",
    "\n",
    "**What does confidence interval tell you about the bootstraps? How many confidence intervals will contain the observed val?**   \n",
    "...\n",
    "\n",
    "**when do you use:**\n",
    "$$\n",
    "\\frac{\\text{prior} * \\text{likelihood}}{\\text{evidence}}\n",
    "$$\n",
    "vs. Just\n",
    "$$\n",
    "\\text{prior} * \\text{likelihood}\n",
    "$$\n",
    "\n",
    "when calculating probabilities"
   ]
  },
  {
   "cell_type": "markdown",
   "metadata": {},
   "source": []
  }
 ],
 "metadata": {
  "kernelspec": {
   "display_name": "Python 3.10.6 64-bit",
   "language": "python",
   "name": "python3"
  },
  "language_info": {
   "name": "python",
   "version": "3.10.8 (main, Oct 13 2022, 09:48:40) [Clang 14.0.0 (clang-1400.0.29.102)]"
  },
  "orig_nbformat": 4,
  "vscode": {
   "interpreter": {
    "hash": "b0fa6594d8f4cbf19f97940f81e996739fb7646882a419484c72d19e05852a7e"
   }
  }
 },
 "nbformat": 4,
 "nbformat_minor": 2
}
