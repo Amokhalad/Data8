{
 "cells": [
  {
   "cell_type": "code",
   "execution_count": 1,
   "metadata": {},
   "outputs": [],
   "source": [
    "from datascience import *\n",
    "%matplotlib inline\n",
    "path_data = '../../../assets/data/'\n",
    "import matplotlib.pyplot as plt\n",
    "plt.style.use('fivethirtyeight')\n",
    "import numpy as np"
   ]
  },
  {
   "cell_type": "markdown",
   "metadata": {},
   "source": [
    "## Chapter 13: Estimation\n",
    "*Oct 30, 2022*"
   ]
  },
  {
   "cell_type": "markdown",
   "metadata": {},
   "source": [
    "This chapter develops a way to estimate an unknown *parameter* (a numerical value associated with a population.)\n",
    "\n",
    "It is often too hard, expensive, and time-consuming to gather data from the entire population, for example, if it consists of all the households in US. In such situations, data scientists rely on sampling at random from the population.\n",
    "\n",
    "With estimation from random sampling, we are faced with a question:\n",
    "**\"How different could this estimate have been, if the sample had come out differently.\"**"
   ]
  },
  {
   "cell_type": "markdown",
   "metadata": {},
   "source": [
    "### 13.1 Percentiles"
   ]
  },
  {
   "cell_type": "markdown",
   "metadata": {},
   "source": [
    "#### The General Definition\n",
    "\n",
    "Let $p$ be a number between 0 and 100. The $p$ th percentile of a collection is the smallest value in the collection that is at least as large as p% of all the values.\n",
    "\n",
    "In practical terms, suppose there are $n$ elements in the collection. To find the $p$ th percentile:\n",
    "- Sort the collection in increasing order.\n",
    "- Find p% of n: $(p/100) \\times n$. Call that $k$ .\n",
    "- If $k$ is an integer, take the $k$ th element of the sorted collection.\n",
    "- If $k$ is not an integer, round it up to the next integer, and take that element of the sorted collection.\n"
   ]
  },
  {
   "cell_type": "markdown",
   "metadata": {},
   "source": [
    "### 13.2 The Bootstrap"
   ]
  },
  {
   "cell_type": "markdown",
   "metadata": {},
   "source": [
    "We draw one large random sample without replacement from the population, and by the law of averages, the distribution of the sample likely resembles that of the population. With that, we obtain one estimate of parameter from our sample, since our sample resembles the population, but had our sample come out differently, the estimate would have had a different value. \n",
    "\n",
    "We would like to be able to quantify the amount by which  the estimate could vary across samples. That measure of variability between sampled estimates will help us measure how accurately we can estimate the parameter.\n",
    "\n",
    "To generate another estimate, we could either sample again from the population, but again that's often times expensive and time consuming, \n",
    "\n",
    "ORR since our first sample is large and the distribution likely resembles that of the original population, we can just resample from the sample with replacement.\n",
    "\n",
    "#### The Bootstrap Process\n",
    "Here are the steps of *the bootstrap method* for generating another random sample that resembles the population:\n",
    "\n",
    "- **Treat the original sample as if it were the population.**\n",
    "- **Draw from the sample, at random with replacement, the same number of times as the original sample size**. \n",
    "\n",
    "___ \n",
    "But why is it important that the resample consists of the same number of times as the original sample??  \n",
    "\n",
    "It's because the variability of an estimate depends on the size of the sample. For example of the parameter was median, the original sample median was based on a set number of values. To see how different the sample could have been, we have to compare it to the median of other samples of the same size.\n"
   ]
  },
  {
   "cell_type": "markdown",
   "metadata": {},
   "source": [
    "#### Why the Bootstrap Works\n",
    "\n",
    "Why is this a good idea? By the law of averages, the distribution of the original sample is likely to resemble the population, and the distributions of all the \"resamples\" are likely to resemble the original sample. **So the distributions of all the resamples are likely to resemble the population as well.**"
   ]
  },
  {
   "cell_type": "markdown",
   "metadata": {},
   "source": [
    "### 13.3 Confidence Intervals"
   ]
  },
  {
   "cell_type": "markdown",
   "metadata": {},
   "source": [
    "we estimated a parameter by using a random sampling and the bootstrap. Our methods produces an interval of estimates, to account for chance variability in the random sample. By providing an interval of estimates instead of just one estimate, we give ourselves some wiggle room.\n",
    "\n",
    "\n",
    "a \"good\" interval is one that contains the parameter.\n",
    "\n",
    "For a 95% **confidence interval** for the parameter, we say that we are *95% confident* that the process results in a good interval.\n",
    "\n",
    "The method is called the *bootstrap percentile method* because the interal is formed by picking off two percentiles of the bootstrapped estimates.\n",
    "\n",
    "Usually, the value of the parameter is unknown, that is why we want to estimate it in the first place. With this, data scientists provide an interval of estimates for the unkown parameter, we they can be confident that their process of generating the interval results in a good interval a known percent of the time."
   ]
  }
 ],
 "metadata": {
  "kernelspec": {
   "display_name": "Python 3.10.6 64-bit",
   "language": "python",
   "name": "python3"
  },
  "language_info": {
   "codemirror_mode": {
    "name": "ipython",
    "version": 3
   },
   "file_extension": ".py",
   "mimetype": "text/x-python",
   "name": "python",
   "nbconvert_exporter": "python",
   "pygments_lexer": "ipython3",
   "version": "3.10.6"
  },
  "orig_nbformat": 4,
  "vscode": {
   "interpreter": {
    "hash": "b0fa6594d8f4cbf19f97940f81e996739fb7646882a419484c72d19e05852a7e"
   }
  }
 },
 "nbformat": 4,
 "nbformat_minor": 2
}
