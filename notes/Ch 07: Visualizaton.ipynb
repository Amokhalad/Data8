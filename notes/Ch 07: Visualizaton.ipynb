{
 "cells": [
  {
   "cell_type": "markdown",
   "metadata": {},
   "source": [
    "# Chapter 7\n",
    "\n",
    "## Scatter Plots\n",
    "a *scatter plot* displayers the relation between two numberical variables.\n",
    "- if the points slope upward, we say that the plot shows an association between the variables, and that the association is positive.\n",
    "- a point that lies outside the general range of the data is called an ***outlier***\n",
    "\n",
    "## Line Plots\n",
    "- often used to study chronological trends and patterns\n",
    "\n",
    "## Bar Charts\n",
    "- The bar chart is a way of visualizing categorical distributions. It displays a bar for each category. The length of each bar is proportional to the frequency of the corresponding category\n",
    "- The difference between bar charts and (line and scatter plots) is that the other two graph two numerical values, while a bar chart graphs one categorical and one numerical.\n",
    "- we can make the bar chart easier to read by sorting the frequency column.\n",
    "\n",
    "## Binning The data\n",
    "- It is sometimes interesting to group numerical values into intervals, known as *bins*.\n",
    "- Each bin, except the last includes its left endpoint but not its right endpoint. [a, b).\n",
    "- **The last bin** contains both it's left and right endpoints [a, b].\n",
    "- If you don't specify any bins, the default is to produce 10 equally wide bins between the min and max values of the data.\n",
    "\n",
    "\n",
    "## Histograms\n",
    "a *histogram* is a visualization of the distribution of a quantitative variable. It looks very much like a bar chart but there are some important differences.\n",
    "- hist uses the same endpoint convention as bin method.\n",
    "- the **area** of each bar is proportional to the number of entires in the bin.\n",
    "- The area of each bar is equal to the percent of data values that are in the corresponding bin.\n",
    "- the total area of all the bars in the histogram is 100%. In terms of proportions, we can say that the areas of all the bars in a histogram \"sum to 1\"\n",
    "\n",
    "```md\n",
    "area of bar = percent of entries in bin\n",
    "```\n",
    "\n",
    "- since areas represent percents, heights represent something else. The numerical calculation of the heights just uses the fact that the bar is a rectangle:\n",
    "```md\n",
    "area of bar = height of bar x width of bar\n",
    "height of bar = area of bar / width of bar\n",
    "              = percent of entries in bin / width of bin\n",
    "```\n",
    "- the units of height are \"percent per unit on the horizontal axis.\" The height is the percent in the bin relative to the width of the bin. So it is called **density** or **crowdedness**\n"
   ]
  },
  {
   "cell_type": "code",
   "execution_count": null,
   "metadata": {},
   "outputs": [],
   "source": []
  }
 ],
 "metadata": {
  "kernelspec": {
   "display_name": "Python 3.10.6 64-bit",
   "language": "python",
   "name": "python3"
  },
  "language_info": {
   "codemirror_mode": {
    "name": "ipython",
    "version": 3
   },
   "file_extension": ".py",
   "mimetype": "text/x-python",
   "name": "python",
   "nbconvert_exporter": "python",
   "pygments_lexer": "ipython3",
   "version": "3.10.6"
  },
  "orig_nbformat": 4,
  "vscode": {
   "interpreter": {
    "hash": "b0fa6594d8f4cbf19f97940f81e996739fb7646882a419484c72d19e05852a7e"
   }
  }
 },
 "nbformat": 4,
 "nbformat_minor": 2
}
