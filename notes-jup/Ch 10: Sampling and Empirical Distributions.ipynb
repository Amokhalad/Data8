{
 "cells": [
  {
   "cell_type": "code",
   "execution_count": 1,
   "metadata": {},
   "outputs": [],
   "source": [
    "from datascience import *\n",
    "import numpy as np\n",
    "import matplotlib.pyplot as plots\n",
    "plots.style.use('fivethirtyeight')\n",
    "%matplotlib inline"
   ]
  },
  {
   "cell_type": "markdown",
   "metadata": {},
   "source": [
    "\n",
    "\n",
    "# Intro: Probability Samples\n",
    "Terminology:\n",
    "- A ***population*** is the set of all elements from whom a sample will be drawn.\n",
    "- a ***probability sample*** is one from which it is possible to calculate, before the sample is drawn, the chance with which any subset of elements will enter the sample.\n",
    "- In a probability sample, all elements need not have the same chance of being chosen.\n",
    "- a ***simple random sample*** is a sample drawn at random *without* replacement. Sampled individuals are not replaced in the population before the next individual is drawn\n"
   ]
  },
  {
   "cell_type": "markdown",
   "metadata": {},
   "source": [
    "### Convenience Samples\n",
    "sampling requires care and precision. If you stand at a street corner and take as your sample the first 10 people who pass by, you might think you're sampling at random because you didn't choose who walked by. But it's not a random sample - it's a **sample of conveniences.** You didn't know ahead of time the probability of each person entering the sample; perhaps you hadn't even specified exactly who was in the population."
   ]
  },
  {
   "cell_type": "markdown",
   "metadata": {},
   "source": [
    "# 10.1 Empirical Distributions"
   ]
  },
  {
   "cell_type": "markdown",
   "metadata": {},
   "source": [
    "in data science, the word ***empirical*** means \"observed.\""
   ]
  },
  {
   "cell_type": "markdown",
   "metadata": {},
   "source": [
    "a theoretical probability is often done mathematically, and is called a probability distribution (not based on observed data). \n",
    "\n",
    "Empirical distribution on the other hand are distributions of observed data. They can be visualized by empirical histograms."
   ]
  },
  {
   "cell_type": "markdown",
   "metadata": {},
   "source": [
    "### The Law of Averages\n",
    "if a chance experiment is repeated independently and under identical conditions, then, in the long run, the proportion of times that an even occurs gets closer and closer to the theoretical probability of the event.  \n",
    "\n",
    "\"Independently and under identical conditions\" means that every repetition is performed in the same way regardless of the result of all the other repetitions.\n",
    "\n",
    "For a large random sample. the empirical histogram of the sample resembles the histogram of the population, with high probability.  \n",
    "\n",
    "This justifies the use of large random samples in statistical inference. The idea is that since a large random sample is likely to resemble the population from which it is drawn, quantities computed from the values in the sample are likely to be close to the corresponding quantities in the population."
   ]
  },
  {
   "cell_type": "markdown",
   "metadata": {},
   "source": [
    "# 10.3 Empirical Distribution of a Statistic"
   ]
  },
  {
   "cell_type": "markdown",
   "metadata": {},
   "source": [
    "### Parameter\n",
    "Numerical quantities associated with a population are called *parameters.* like median of a set, or largest number in a set."
   ]
  },
  {
   "cell_type": "markdown",
   "metadata": {},
   "source": [
    "A fundamental consideration in using any statistic based on a random sample is that *the sample* could have come out differently, and therefore the statistic could have come out differently too.\n",
    "\n",
    "**But just how different could the statistic have been?** One way to answer this is to simulate the statistic many times and note the values. A histogram of those values will tell us about the distribution of the statistic."
   ]
  },
  {
   "cell_type": "markdown",
   "metadata": {},
   "source": [
    "### Simulating a Statistic"
   ]
  },
  {
   "cell_type": "markdown",
   "metadata": {},
   "source": [
    "**Step 1: Decide which statistic to simulate**\n",
    "\n",
    "**Step 2: Define a function that returns on simulated value of the statistic**. For example, if we want to draw 1000 samples and compute the mediam of the sample, we'd write this function.\n",
    "\n",
    "```python\n",
    "def random_sample_median():\n",
    "    return np.median(tbl.sample(1000).column('NAME'))\n",
    "```\n",
    "**Step 3: Decide how many simulated values to generate.**\n",
    "\n",
    "**Step 4: Use a `for` loop to generate an array of simulated values.** Start with an empty array in which to collect our results. We will then set up a `for` loop for generating all the simulated values. The body of the loop will consist one simulated value of the sample median, and appending it to our collection array.\n",
    "\n",
    "```python\n",
    "medians = make_array()\n",
    "for _ in np.arange(5000):\n",
    "    medians = np.append(medians, random_sample_median)\n",
    "```\n",
    "\n",
    "THE SIMULATION IS DONE!!!\n",
    "\n",
    "##### Visualization\n",
    "\n",
    "```python\n",
    "simulated_medians = Table().with_column('Sample Median', medians)\n",
    "simulated_medians.hist()\n",
    "```\n"
   ]
  },
  {
   "cell_type": "markdown",
   "metadata": {},
   "source": [
    "## 10.4 Random Sampling in Python"
   ]
  },
  {
   "cell_type": "markdown",
   "metadata": {},
   "source": [
    "- if sampling from a population in a table, use `tbl.sample(n)` table method.\n",
    "- if sampling from an array, use `np.random.choice` function"
   ]
  },
  {
   "cell_type": "markdown",
   "metadata": {},
   "source": [
    "### Sampling from a categorical Distribution"
   ]
  },
  {
   "cell_type": "markdown",
   "metadata": {},
   "source": [
    "when interested in a categorical attribute of a sample, for example, we might be looking at whether a coin lands Heads or Tails, in such case, we frequently need the proportions of samples in different categories. If we have the entire sample, we can calculate these proportions. The function `sample_proportions` in the `datascience` library does that work for us.\n",
    "\n",
    "The `sample_proportions` function takes two arguments:\n",
    "- the sample size\n",
    "- the distribution of the categories in the population, as a list or array of proportions that add up to 1.\n",
    "\n",
    "\n",
    "It returns an array containing the distribution of the categories in a random sample of the given size taken from the population. That's an array consisting of the sample proportions in all different categories, in the same order in which they appeared in the population distribution."
   ]
  }
 ],
 "metadata": {
  "kernelspec": {
   "display_name": "Python 3.10.6 64-bit",
   "language": "python",
   "name": "python3"
  },
  "language_info": {
   "codemirror_mode": {
    "name": "ipython",
    "version": 3
   },
   "file_extension": ".py",
   "mimetype": "text/x-python",
   "name": "python",
   "nbconvert_exporter": "python",
   "pygments_lexer": "ipython3",
   "version": "3.10.6"
  },
  "orig_nbformat": 4,
  "vscode": {
   "interpreter": {
    "hash": "b0fa6594d8f4cbf19f97940f81e996739fb7646882a419484c72d19e05852a7e"
   }
  }
 },
 "nbformat": 4,
 "nbformat_minor": 2
}
